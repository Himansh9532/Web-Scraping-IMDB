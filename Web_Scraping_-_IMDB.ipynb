{
 "cells": [
  {
   "cell_type": "markdown",
   "id": "6c43a6ad",
   "metadata": {},
   "source": [
    "# Scraping Top Movies for Genres from IMDB Using Python\n",
    "\n",
    "\n",
    "![IMDB.png](https://i.postimg.cc/5yKDDZrx/IMDB.png)"
   ]
  },
  {
   "cell_type": "markdown",
   "id": "ddb5d708",
   "metadata": {},
   "source": [
    "Web Scraping is used to extract data from websites into a structured format like a csv file which can be further used for analysis. Many tools like scrapy, pyspider and other SaaS based platforms are available for this purpose. We'll be using the following libraries from Python for our project:  \n",
    "\n",
    "* requests\n",
    "* BeautifulSoup\n",
    "* pandas\n",
    "\n",
    "### Problem Statement\n",
    "IMDB (The Internet Movie Database), owned by Amazon, is one of the most comprehensive movie databases on the internet. It is popularly browsed for movie reviews/ratings and other TV/celebrity content. We would like to create an automated way of scraping the top movies for any given genre from IMDB with the following details:\n",
    "* Movie Name\n",
    "* IMDB URL\n",
    "* Year of release\n",
    "* Duration\n",
    "* Genre\n",
    "* IMDB Rating\n",
    "* Director\n",
    "* Star cast\n",
    "* Number of Votes\n",
    "\n",
    "Once we have this information, we will write it to a csv file so that it can be used for further analysis.\n",
    "\n",
    "### Step-by-Step Solution\n",
    "\n",
    "* Download the page from URL using requests library and convert its contents into a BeautifulSoup Object\n",
    "* Use the BeautifulSoup library to parse required information\n",
    "* Write the gathered information to a csv\n",
    "* Use the pandas library to show the information in a dataframe"
   ]
  },
  {
   "cell_type": "markdown",
   "id": "e1eeebd1",
   "metadata": {},
   "source": [
    "## Downloading the Web Page\n",
    "\n",
    "We'll be writing two functions to download the web page and convert it into a BeautifulSoup object for a given genre. Since IMDB shows only 50 movies on the first page, we'll write a function to download the content for Nth page as well.\n",
    "\n",
    "IMDB has the following genres listed for which webpages can be downloaded:  \n",
    "* action, adventure, animation, biography, comedy, crime, documentary, drama, family, fantasy, history, Horror, music, musical, mystery, romance, sci-fi, short film, sport, superhero, thriller, war, western"
   ]
  },
  {
   "cell_type": "code",
   "execution_count": 2,
   "id": "25d17034",
   "metadata": {},
   "outputs": [],
   "source": [
    "import requests\n",
    "from bs4 import BeautifulSoup\n",
    "\n",
    "def get_genre_first_page(genre):\n",
    "    start = 'https://www.imdb.com/search/title/?genres='\n",
    "    end = '&title_type=feature&explore=genres&pf_rd_m=A2FGELUUNOQJNL&pf_rd_p=facfbd0c-6f3d-4c05-9348-22eebd58852e&pf_rd_r=VAYJ7QXVS6BEX8377ERW&pf_rd_s=center-6&pf_rd_t=15051&pf_rd_i=genre&ref_=ft_gnr_mvpop_1'\n",
    "    genre_url = start + genre + end\n",
    "    response = requests.get(genre_url)\n",
    "    \n",
    "    if not response.ok:\n",
    "        print('Status Code:', response.status_code)\n",
    "        raise Exception('Failed to fetch web page' + genre_url)\n",
    "    \n",
    "    doc = BeautifulSoup(response.text)\n",
    "    return doc\n",
    "\n",
    "\n",
    "def get_genre_nth_page(genre, n):\n",
    "    start = 'https://www.imdb.com/search/title/?title_type=feature&genres='\n",
    "    mid = '&start='\n",
    "    num = str((n-1)*50 + 1)\n",
    "    end = '&explore=genres&ref_=adv_nxt'\n",
    "    genre_url = start + genre + mid + num + end\n",
    "    response = requests.get(genre_url)\n",
    "    \n",
    "    if not response.ok:\n",
    "        print('Status Code:', response.status_code)\n",
    "        raise Exception('Failed to get web page' + genre_url)\n",
    "    \n",
    "    doc = BeautifulSoup(response.text)\n",
    "    \n",
    "    return doc"
   ]
  },
  {
   "cell_type": "markdown",
   "id": "1a1a23a3",
   "metadata": {},
   "source": [
    "The functions defined above do the following:\n",
    "\n",
    "* Create the page URL by substituting the genre in the generic URL taken from IMDB\n",
    "* Use **requests** library to download the HTML source code as **response**\n",
    "* Check the status of response object - the web page can be fetched only when it returns the value **200**\n",
    "* Use **BeautifulSoup** to create an object called **doc** which can be used to scrape required information\n",
    "\n",
    "Below is a demo using 'action' genre:"
   ]
  },
  {
   "cell_type": "code",
   "execution_count": 3,
   "id": "4a965977",
   "metadata": {},
   "outputs": [
    {
     "name": "stdout",
     "output_type": "stream",
     "text": [
      "Status Code: 403\n"
     ]
    },
    {
     "ename": "Exception",
     "evalue": "Failed to fetch web pagehttps://www.imdb.com/search/title/?genres=action&title_type=feature&explore=genres&pf_rd_m=A2FGELUUNOQJNL&pf_rd_p=facfbd0c-6f3d-4c05-9348-22eebd58852e&pf_rd_r=VAYJ7QXVS6BEX8377ERW&pf_rd_s=center-6&pf_rd_t=15051&pf_rd_i=genre&ref_=ft_gnr_mvpop_1",
     "output_type": "error",
     "traceback": [
      "\u001b[1;31m---------------------------------------------------------------------------\u001b[0m",
      "\u001b[1;31mException\u001b[0m                                 Traceback (most recent call last)",
      "Cell \u001b[1;32mIn[3], line 1\u001b[0m\n\u001b[1;32m----> 1\u001b[0m doc1 \u001b[38;5;241m=\u001b[39m get_genre_first_page(\u001b[38;5;124m'\u001b[39m\u001b[38;5;124maction\u001b[39m\u001b[38;5;124m'\u001b[39m)\n\u001b[0;32m      2\u001b[0m doc2 \u001b[38;5;241m=\u001b[39m get_genre_nth_page(\u001b[38;5;124m'\u001b[39m\u001b[38;5;124maction\u001b[39m\u001b[38;5;124m'\u001b[39m, \u001b[38;5;241m2\u001b[39m)\n",
      "Cell \u001b[1;32mIn[2], line 12\u001b[0m, in \u001b[0;36mget_genre_first_page\u001b[1;34m(genre)\u001b[0m\n\u001b[0;32m     10\u001b[0m \u001b[38;5;28;01mif\u001b[39;00m \u001b[38;5;129;01mnot\u001b[39;00m response\u001b[38;5;241m.\u001b[39mok:\n\u001b[0;32m     11\u001b[0m     \u001b[38;5;28mprint\u001b[39m(\u001b[38;5;124m'\u001b[39m\u001b[38;5;124mStatus Code:\u001b[39m\u001b[38;5;124m'\u001b[39m, response\u001b[38;5;241m.\u001b[39mstatus_code)\n\u001b[1;32m---> 12\u001b[0m     \u001b[38;5;28;01mraise\u001b[39;00m \u001b[38;5;167;01mException\u001b[39;00m(\u001b[38;5;124m'\u001b[39m\u001b[38;5;124mFailed to fetch web page\u001b[39m\u001b[38;5;124m'\u001b[39m \u001b[38;5;241m+\u001b[39m genre_url)\n\u001b[0;32m     14\u001b[0m doc \u001b[38;5;241m=\u001b[39m BeautifulSoup(response\u001b[38;5;241m.\u001b[39mtext)\n\u001b[0;32m     15\u001b[0m \u001b[38;5;28;01mreturn\u001b[39;00m doc\n",
      "\u001b[1;31mException\u001b[0m: Failed to fetch web pagehttps://www.imdb.com/search/title/?genres=action&title_type=feature&explore=genres&pf_rd_m=A2FGELUUNOQJNL&pf_rd_p=facfbd0c-6f3d-4c05-9348-22eebd58852e&pf_rd_r=VAYJ7QXVS6BEX8377ERW&pf_rd_s=center-6&pf_rd_t=15051&pf_rd_i=genre&ref_=ft_gnr_mvpop_1"
     ]
    }
   ],
   "source": [
    "doc1 = get_genre_first_page('action')\n",
    "doc2 = get_genre_nth_page('action', 2)"
   ]
  },
  {
   "cell_type": "code",
   "execution_count": null,
   "id": "5244c4c0",
   "metadata": {},
   "outputs": [],
   "source": [
    "type(doc1)"
   ]
  },
  {
   "cell_type": "code",
   "execution_count": 4,
   "id": "f5a33d6a",
   "metadata": {},
   "outputs": [
    {
     "ename": "NameError",
     "evalue": "name 'doc1' is not defined",
     "output_type": "error",
     "traceback": [
      "\u001b[1;31m---------------------------------------------------------------------------\u001b[0m",
      "\u001b[1;31mNameError\u001b[0m                                 Traceback (most recent call last)",
      "Cell \u001b[1;32mIn[4], line 1\u001b[0m\n\u001b[1;32m----> 1\u001b[0m doc1\u001b[38;5;241m.\u001b[39mtitle\u001b[38;5;241m.\u001b[39mtext\n",
      "\u001b[1;31mNameError\u001b[0m: name 'doc1' is not defined"
     ]
    }
   ],
   "source": [
    "doc1.title.text"
   ]
  },
  {
   "cell_type": "markdown",
   "id": "f9de3547",
   "metadata": {},
   "source": [
    "## Using BeautifulSoup to Parse Information\n",
    "\n",
    "We will now define a few functions to get the required information from the below web page:\n",
    "\n",
    "https://www.imdb.com/search/title/?genres=action&title_type=feature&explore=genres&pf_rd_m=A2FGELUUNOQJNL&pf_rd_p=facfbd0c-6f3d-4c05-9348-22eebd58852e&pf_rd_r=H7SMTEDNFWKPADVAM0ZG&pf_rd_s=center-6&pf_rd_t=15051&pf_rd_i=genre&ref_=ft_gnr_mvpop_1\n",
    "\n",
    "![Movie Tag](https://i.postimg.cc/7Yk472v9/Movie-Object.png)"
   ]
  },
  {
   "cell_type": "markdown",
   "id": "fbccc8a1",
   "metadata": {},
   "source": [
    "### Movie Tags\n",
    "In the code given below, we obtain a list of movie tags on the web page by filtering on Tag: `div` & Class: `lister-item mode-advanced`. We will use these movie tags to further extract information about each of the 50 movies"
   ]
  },
  {
   "cell_type": "code",
   "execution_count": 5,
   "id": "3e6a5fa8",
   "metadata": {},
   "outputs": [
    {
     "data": {
      "text/plain": [
       "50"
      ]
     },
     "execution_count": 5,
     "metadata": {},
     "output_type": "execute_result"
    }
   ],
   "source": [
    "movie_tags = doc1.find_all('div', class_ = 'lister-item mode-advanced')\n",
    "len(movie_tags)"
   ]
  },
  {
   "cell_type": "markdown",
   "id": "bdb77655",
   "metadata": {},
   "source": [
    "### Movie Name & URL\n",
    "\n",
    "The movie name is enclosed within `a` tag which is inside a `h3` tag. We will first obtain the `h3` tag and then use it to extract the movie link and its text (movie name):\n",
    "\n",
    "![](https://i.postimg.cc/bwk0Fr3m/Movie-Name-URL.png)"
   ]
  },
  {
   "cell_type": "code",
   "execution_count": 6,
   "id": "74d3d3f0",
   "metadata": {},
   "outputs": [
    {
     "data": {
      "text/plain": [
       "<h3 class=\"lister-item-header\">\n",
       "<span class=\"lister-item-index unbold text-primary\">1.</span>\n",
       "<a href=\"/title/tt1630029/\">Avatar: The Way of Water</a>\n",
       "<span class=\"lister-item-year text-muted unbold\">(2022)</span>\n",
       "</h3>"
      ]
     },
     "execution_count": 6,
     "metadata": {},
     "output_type": "execute_result"
    }
   ],
   "source": [
    "sample_h3_tag = movie_tags[0].find('h3')\n",
    "sample_h3_tag"
   ]
  },
  {
   "cell_type": "code",
   "execution_count": 7,
   "id": "b83efb83",
   "metadata": {},
   "outputs": [
    {
     "data": {
      "text/plain": [
       "'Avatar: The Way of Water'"
      ]
     },
     "execution_count": 7,
     "metadata": {},
     "output_type": "execute_result"
    }
   ],
   "source": [
    "sample_name = sample_h3_tag.find('a').text.strip()\n",
    "sample_name"
   ]
  },
  {
   "cell_type": "code",
   "execution_count": 8,
   "id": "caeeaf22",
   "metadata": {},
   "outputs": [
    {
     "data": {
      "text/plain": [
       "'https://www.imdb.com/title/tt1630029/'"
      ]
     },
     "execution_count": 8,
     "metadata": {},
     "output_type": "execute_result"
    }
   ],
   "source": [
    "imdb_url = 'https://www.imdb.com'\n",
    "sample_url = imdb_url + sample_h3_tag.find('a')['href']\n",
    "sample_url"
   ]
  },
  {
   "cell_type": "markdown",
   "id": "6314cb71",
   "metadata": {},
   "source": [
    "### Year of Release\n",
    "\n",
    "We can obtain the release year using the tag: `span` and class: `lister-item-year text-muted unbold`. The release date is not given on the website for a few movies since they are still in production. So we write a function to take the value as `None` where no release date is available:\n",
    "\n",
    "![](https://i.postimg.cc/44qkG2Qm/Year-of-release.png)\n",
    "\n"
   ]
  },
  {
   "cell_type": "code",
   "execution_count": 9,
   "id": "b768c568",
   "metadata": {},
   "outputs": [],
   "source": [
    "def find_year(movie_tag):\n",
    "    try:\n",
    "        year = int(movie_tag.find('span', class_ = 'lister-item-year text-muted unbold').text[-5:-1])\n",
    "    except AttributeError:\n",
    "        year = None\n",
    "    except ValueError:\n",
    "        year = None\n",
    "        \n",
    "    return year"
   ]
  },
  {
   "cell_type": "code",
   "execution_count": 10,
   "id": "4dd53cb6",
   "metadata": {},
   "outputs": [
    {
     "data": {
      "text/plain": [
       "2022"
      ]
     },
     "execution_count": 10,
     "metadata": {},
     "output_type": "execute_result"
    }
   ],
   "source": [
    "find_year(movie_tags[0])"
   ]
  },
  {
   "cell_type": "markdown",
   "id": "5f119ead",
   "metadata": {},
   "source": [
    "### Genre\n",
    "\n",
    "We can obtain the Genre using the tag: `span` and class: `genre`\n",
    "\n",
    "![](https://i.postimg.cc/y62fNkpT/genre.png)"
   ]
  },
  {
   "cell_type": "code",
   "execution_count": 11,
   "id": "9d7ec7ac",
   "metadata": {},
   "outputs": [
    {
     "data": {
      "text/plain": [
       "'Action, Adventure, Fantasy'"
      ]
     },
     "execution_count": 11,
     "metadata": {},
     "output_type": "execute_result"
    }
   ],
   "source": [
    "sample_genre = movie_tags[0].find('span', class_ = 'genre').text.strip()\n",
    "sample_genre"
   ]
  },
  {
   "cell_type": "markdown",
   "id": "c0eb9fa9",
   "metadata": {},
   "source": [
    "### Duration\n",
    "\n",
    "We can obtain the duration in mins using the tag: `span` and class: `lister-item-year text-muted unbold`. The duration is not given on the website for a few movies since they are still in production. So we write a function to take the value as `None` where no release date is available:\n",
    "\n",
    "![](https://i.postimg.cc/k5XQXmQC/duration.png)\n"
   ]
  },
  {
   "cell_type": "code",
   "execution_count": 12,
   "id": "55c37417",
   "metadata": {},
   "outputs": [],
   "source": [
    "def find_duration(movie_tag):\n",
    "    try:\n",
    "        duration = movie_tag.find('span', class_ = 'runtime').text.strip()\n",
    "    except AttributeError:\n",
    "        duration = None\n",
    "        \n",
    "    return duration"
   ]
  },
  {
   "cell_type": "code",
   "execution_count": 13,
   "id": "00574755",
   "metadata": {},
   "outputs": [
    {
     "data": {
      "text/plain": [
       "'192 min'"
      ]
     },
     "execution_count": 13,
     "metadata": {},
     "output_type": "execute_result"
    }
   ],
   "source": [
    "find_duration(movie_tags[0])"
   ]
  },
  {
   "cell_type": "markdown",
   "id": "36a6f3c6",
   "metadata": {},
   "source": [
    "### IMDB Rating\n",
    "\n",
    "We can obtain the IMDB rating using the tag: `div` and class: `inline-block ratings-imdb-rating`. The rating is not given on the website for a few movies since they are still in production. So we write a function to take the value as `None` where no rating is available:\n",
    "\n",
    "![](https://i.postimg.cc/qvGF5pBH/imdb-rating.png)"
   ]
  },
  {
   "cell_type": "code",
   "execution_count": 14,
   "id": "2ee4f729",
   "metadata": {},
   "outputs": [],
   "source": [
    "def find_imdb_rating(movie_tag):\n",
    "    try:\n",
    "        imdb_rating = float(movie_tag.find('div', class_ = 'inline-block ratings-imdb-rating').text.strip())\n",
    "    except AttributeError:\n",
    "        imdb_rating = None\n",
    "        \n",
    "    return imdb_rating"
   ]
  },
  {
   "cell_type": "code",
   "execution_count": 15,
   "id": "4e5d60f0",
   "metadata": {},
   "outputs": [
    {
     "data": {
      "text/plain": [
       "7.9"
      ]
     },
     "execution_count": 15,
     "metadata": {},
     "output_type": "execute_result"
    }
   ],
   "source": [
    "find_imdb_rating(movie_tags[0])"
   ]
  },
  {
   "cell_type": "markdown",
   "id": "a9be67f5",
   "metadata": {},
   "source": [
    "### Directors & Star Cast\n",
    "\n",
    "We can obtain the directors and star cast using the tag: `p` and class as blank. Since the paragraph has a lot of text, we will convert it into a list to select only the text we require. The directors and actors are not given on the website for a few movies. So we write a function to take the value as `None` where no director/cast information is available:\n",
    "\n",
    "![](https://i.postimg.cc/RVx4rVmW/Directors-and-Stars.png)"
   ]
  },
  {
   "cell_type": "code",
   "execution_count": 16,
   "id": "d622d0d1",
   "metadata": {},
   "outputs": [],
   "source": [
    "def find_directors(movie_tag):\n",
    "    try:\n",
    "        paragraph = movie_tag.find('p', class_ = '').get_text().strip().split('\\n')\n",
    "        directors = ''.join(paragraph[1 : paragraph.index('| ')])\n",
    "        directors = directors.replace(',', ';')\n",
    "    except ValueError:\n",
    "        directors = None\n",
    "        \n",
    "    return directors\n",
    "\n",
    "def find_actors(movie_tag):\n",
    "    try:\n",
    "        paragraph = movie_tag.find('p', class_ = '').get_text().strip().split('\\n')\n",
    "        actors = ''.join(paragraph[paragraph.index('    Stars:')+1 :])\n",
    "        actors = actors.replace(',', ';')\n",
    "    except ValueError:\n",
    "        actors = None\n",
    "        \n",
    "    return actors"
   ]
  },
  {
   "cell_type": "code",
   "execution_count": 17,
   "id": "1c9ec7dc",
   "metadata": {},
   "outputs": [
    {
     "data": {
      "text/plain": [
       "'James Cameron'"
      ]
     },
     "execution_count": 17,
     "metadata": {},
     "output_type": "execute_result"
    }
   ],
   "source": [
    "find_directors(movie_tags[0])"
   ]
  },
  {
   "cell_type": "code",
   "execution_count": 18,
   "id": "7cc337fa",
   "metadata": {},
   "outputs": [
    {
     "data": {
      "text/plain": [
       "'Sam Worthington; Zoe Saldana; Sigourney Weaver; Stephen Lang'"
      ]
     },
     "execution_count": 18,
     "metadata": {},
     "output_type": "execute_result"
    }
   ],
   "source": [
    "find_actors(movie_tags[0])"
   ]
  },
  {
   "cell_type": "markdown",
   "id": "52e8d6d3",
   "metadata": {},
   "source": [
    "### Number of Votes\n",
    "\n",
    "We can obtain the votes using the tag: `p` and class: `sort-num_votes-visible`. Since we are going to export the data into a csv file, we will remove the comas from the number of votes. The votes information is not given on the website for a few movies since they are still in production. So we write a function to take the value as `None` where no votes information is available:\n",
    "\n",
    "![](https://i.postimg.cc/W3t0nM8C/votes.png)"
   ]
  },
  {
   "cell_type": "code",
   "execution_count": 19,
   "id": "0b596490",
   "metadata": {},
   "outputs": [],
   "source": [
    "def find_votes(movie_tag):\n",
    "    try:\n",
    "        votes = movie_tag.find('p', class_ = 'sort-num_votes-visible').get_text().strip().split('\\n')[1]\n",
    "        if ',' in votes:\n",
    "            votes = int(votes.replace(',' , ''))\n",
    "        else:\n",
    "            votes = int(votes)\n",
    "    except AttributeError:\n",
    "        votes = None\n",
    "    except IndexError:\n",
    "        votes = None\n",
    "        \n",
    "    return votes"
   ]
  },
  {
   "cell_type": "code",
   "execution_count": 20,
   "id": "06abe4f7",
   "metadata": {},
   "outputs": [
    {
     "data": {
      "text/plain": [
       "220530"
      ]
     },
     "execution_count": 20,
     "metadata": {},
     "output_type": "execute_result"
    }
   ],
   "source": [
    "find_votes(movie_tags[0])"
   ]
  },
  {
   "cell_type": "markdown",
   "id": "57a30ab4",
   "metadata": {},
   "source": [
    "### Function to Parse top movies into a Python List\n",
    "\n",
    "Now that we have written functions to get all the information required from a movie tag, we will write a function to put all the information in a dictionary. Using this function we will create a list of 100 dictionaries - each one containing the information of a movie tag"
   ]
  },
  {
   "cell_type": "code",
   "execution_count": 21,
   "id": "6d3b6bca",
   "metadata": {},
   "outputs": [
    {
     "name": "stdout",
     "output_type": "stream",
     "text": [
      "Movie Name: Avatar: The Way of Water\n",
      "IMDB URL: https://www.imdb.com/title/tt1630029/\n",
      "Year of Release: 2022\n",
      "Duration: 192 min\n",
      "Genre: Action, Adventure, Fantasy\n",
      "IMDB Rating: 7.9\n",
      "Director: James Cameron\n",
      "Actors: Sam Worthington; Zoe Saldana; Sigourney Weaver; Stephen Lang\n",
      "Votes: 220530\n"
     ]
    }
   ],
   "source": [
    "# Following is the information extracted for the first movie tag:\n",
    "print('Movie Name:', sample_name)\n",
    "print(\"IMDB URL:\", sample_url)\n",
    "print('Year of Release:', find_year(movie_tags[0]))\n",
    "print('Duration:', find_duration(movie_tags[0]))\n",
    "print('Genre:', sample_genre)\n",
    "print('IMDB Rating:', find_imdb_rating(movie_tags[0]))\n",
    "print('Director:', find_directors(movie_tags[0]))\n",
    "print('Actors:', find_actors(movie_tags[0]))\n",
    "print('Votes:', find_votes(movie_tags[0]))"
   ]
  },
  {
   "cell_type": "code",
   "execution_count": 22,
   "id": "01f84439",
   "metadata": {},
   "outputs": [],
   "source": [
    "#Function to write all the information into a dictionary\n",
    "\n",
    "def parse_movie(movie_tag):\n",
    "    \n",
    "    h3_tag = movie_tag.find('h3')\n",
    "    name = h3_tag.find('a').text.strip().replace(',', '')\n",
    "    imdb_url = 'https://www.imdb.com'\n",
    "    url = imdb_url + h3_tag.find('a')['href']\n",
    "    year = find_year(movie_tag)\n",
    "    \n",
    "    duration = find_duration(movie_tag)\n",
    "    genre = movie_tag.find('span', class_ = 'genre').text.strip().replace(',', ';')\n",
    "    imdb_rating = find_imdb_rating(movie_tag)\n",
    "    \n",
    "    directors = find_directors(movie_tag)\n",
    "    actors = find_actors(movie_tag)\n",
    "    votes = find_votes(movie_tag)\n",
    "    \n",
    "    #Return a Dictionary\n",
    "    \n",
    "    return{\n",
    "        'Movie Name': name,\n",
    "        'IMDB URL': url,\n",
    "        'Year of Release': year,\n",
    "        'Duration': duration,\n",
    "        'Genre': genre,\n",
    "        'IMDB Rating': imdb_rating,\n",
    "        'Directors': directors,\n",
    "        'Actors': actors,\n",
    "        'Votes': votes\n",
    "    }"
   ]
  },
  {
   "cell_type": "code",
   "execution_count": 23,
   "id": "6632db8b",
   "metadata": {},
   "outputs": [
    {
     "data": {
      "text/plain": [
       "{'Movie Name': 'Bullet Train',\n",
       " 'IMDB URL': 'https://www.imdb.com/title/tt12593682/',\n",
       " 'Year of Release': 2022,\n",
       " 'Duration': '127 min',\n",
       " 'Genre': 'Action; Comedy; Thriller',\n",
       " 'IMDB Rating': 7.3,\n",
       " 'Directors': 'David Leitch',\n",
       " 'Actors': 'Brad Pitt; Joey King; Aaron Taylor-Johnson; Brian Tyree Henry',\n",
       " 'Votes': 258485}"
      ]
     },
     "execution_count": 23,
     "metadata": {},
     "output_type": "execute_result"
    }
   ],
   "source": [
    "parse_movie(movie_tags[2])"
   ]
  },
  {
   "cell_type": "code",
   "execution_count": 24,
   "id": "e5d94ec0",
   "metadata": {},
   "outputs": [
    {
     "data": {
      "text/plain": [
       "[{'Movie Name': 'Avatar: The Way of Water',\n",
       "  'IMDB URL': 'https://www.imdb.com/title/tt1630029/',\n",
       "  'Year of Release': 2022,\n",
       "  'Duration': '192 min',\n",
       "  'Genre': 'Action; Adventure; Fantasy',\n",
       "  'IMDB Rating': 7.9,\n",
       "  'Directors': 'James Cameron',\n",
       "  'Actors': 'Sam Worthington; Zoe Saldana; Sigourney Weaver; Stephen Lang',\n",
       "  'Votes': 220530},\n",
       " {'Movie Name': 'Avatar',\n",
       "  'IMDB URL': 'https://www.imdb.com/title/tt0499549/',\n",
       "  'Year of Release': 2009,\n",
       "  'Duration': '162 min',\n",
       "  'Genre': 'Action; Adventure; Fantasy',\n",
       "  'IMDB Rating': 7.9,\n",
       "  'Directors': 'James Cameron',\n",
       "  'Actors': 'Sam Worthington; Zoe Saldana; Sigourney Weaver; Michelle Rodriguez',\n",
       "  'Votes': 1299311},\n",
       " {'Movie Name': 'Bullet Train',\n",
       "  'IMDB URL': 'https://www.imdb.com/title/tt12593682/',\n",
       "  'Year of Release': 2022,\n",
       "  'Duration': '127 min',\n",
       "  'Genre': 'Action; Comedy; Thriller',\n",
       "  'IMDB Rating': 7.3,\n",
       "  'Directors': 'David Leitch',\n",
       "  'Actors': 'Brad Pitt; Joey King; Aaron Taylor-Johnson; Brian Tyree Henry',\n",
       "  'Votes': 258485},\n",
       " {'Movie Name': 'Top Gun: Maverick',\n",
       "  'IMDB URL': 'https://www.imdb.com/title/tt1745960/',\n",
       "  'Year of Release': 2022,\n",
       "  'Duration': '130 min',\n",
       "  'Genre': 'Action; Drama',\n",
       "  'IMDB Rating': 8.3,\n",
       "  'Directors': 'Joseph Kosinski',\n",
       "  'Actors': 'Tom Cruise; Jennifer Connelly; Miles Teller; Val Kilmer',\n",
       "  'Votes': 489346},\n",
       " {'Movie Name': 'Everything Everywhere All at Once',\n",
       "  'IMDB URL': 'https://www.imdb.com/title/tt6710474/',\n",
       "  'Year of Release': 2022,\n",
       "  'Duration': '139 min',\n",
       "  'Genre': 'Action; Adventure; Comedy',\n",
       "  'IMDB Rating': 8.1,\n",
       "  'Directors': 'Dan Kwan; Daniel Scheinert',\n",
       "  'Actors': 'Michelle Yeoh; Stephanie Hsu; Jamie Lee Curtis; Ke Huy Quan',\n",
       "  'Votes': 280153}]"
      ]
     },
     "execution_count": 24,
     "metadata": {},
     "output_type": "execute_result"
    }
   ],
   "source": [
    "top_action_movies = [parse_movie(tag) for tag in movie_tags]\n",
    "top_action_movies[:5]"
   ]
  },
  {
   "cell_type": "markdown",
   "id": "e7d9281a",
   "metadata": {},
   "source": [
    "Below is a function to get the information of top 100 movies from a BeautifulSoup object as input:"
   ]
  },
  {
   "cell_type": "code",
   "execution_count": 25,
   "id": "9b774b14",
   "metadata": {},
   "outputs": [],
   "source": [
    "def get_top_movies(doc):\n",
    "    \n",
    "    # Obtain a list of movie tags from the html source code\n",
    "    movie_tags = doc.find_all('div', class_ = 'lister-item mode-advanced')\n",
    "    \n",
    "    # Create a list of dictionaries containing movie information\n",
    "    top_movies = [parse_movie(tag) for tag in movie_tags]\n",
    "    return top_movies"
   ]
  },
  {
   "cell_type": "markdown",
   "id": "893a7ba1",
   "metadata": {},
   "source": [
    "Finally, below function uses all the functions defined above to give the list of top 100 movies for any Genre:"
   ]
  },
  {
   "cell_type": "code",
   "execution_count": 26,
   "id": "b267dd59",
   "metadata": {},
   "outputs": [],
   "source": [
    "def get_n_pages(genre, n):\n",
    "    \n",
    "    #Getting a list of top 50 movies from first page\n",
    "    doc1 = get_genre_first_page(genre)\n",
    "    top_movies = get_top_movies(doc1)\n",
    "    \n",
    "    #Getting a list of movies from the next (n-1) pages\n",
    "    for i in range(2,n+1):\n",
    "        doc = get_genre_nth_page(genre, i)\n",
    "        top_movies_n = get_top_movies(doc)\n",
    "        top_movies += top_movies_n\n",
    "    \n",
    "    return top_movies"
   ]
  },
  {
   "cell_type": "code",
   "execution_count": 27,
   "id": "acac4b9b",
   "metadata": {
    "scrolled": true
   },
   "outputs": [
    {
     "data": {
      "text/plain": [
       "200"
      ]
     },
     "execution_count": 27,
     "metadata": {},
     "output_type": "execute_result"
    }
   ],
   "source": [
    "top_200_comedy_movies = get_n_pages('comedy', 4)\n",
    "len(top_200_comedy_movies)"
   ]
  },
  {
   "cell_type": "code",
   "execution_count": 28,
   "id": "f7579454",
   "metadata": {},
   "outputs": [
    {
     "data": {
      "text/plain": [
       "[{'Movie Name': 'Glass Onion',\n",
       "  'IMDB URL': 'https://www.imdb.com/title/tt11564570/',\n",
       "  'Year of Release': 2022,\n",
       "  'Duration': '139 min',\n",
       "  'Genre': 'Comedy; Crime; Drama',\n",
       "  'IMDB Rating': 7.2,\n",
       "  'Directors': 'Rian Johnson',\n",
       "  'Actors': 'Daniel Craig; Edward Norton; Kate Hudson; Dave Bautista',\n",
       "  'Votes': 255998},\n",
       " {'Movie Name': 'The Menu',\n",
       "  'IMDB URL': 'https://www.imdb.com/title/tt9764362/',\n",
       "  'Year of Release': 2022,\n",
       "  'Duration': '107 min',\n",
       "  'Genre': 'Comedy; Horror; Thriller',\n",
       "  'IMDB Rating': 7.3,\n",
       "  'Directors': 'Mark Mylod',\n",
       "  'Actors': 'Ralph Fiennes; Anya Taylor-Joy; Nicholas Hoult; Hong Chau',\n",
       "  'Votes': 115650},\n",
       " {'Movie Name': 'White Noise',\n",
       "  'IMDB URL': 'https://www.imdb.com/title/tt6160448/',\n",
       "  'Year of Release': 2022,\n",
       "  'Duration': '136 min',\n",
       "  'Genre': 'Comedy; Drama; Horror',\n",
       "  'IMDB Rating': 5.7,\n",
       "  'Directors': 'Noah Baumbach',\n",
       "  'Actors': 'Adam Driver; Greta Gerwig; Don Cheadle; Madison Gaughan',\n",
       "  'Votes': 24039},\n",
       " {'Movie Name': 'Knives Out',\n",
       "  'IMDB URL': 'https://www.imdb.com/title/tt8946378/',\n",
       "  'Year of Release': 2019,\n",
       "  'Duration': '130 min',\n",
       "  'Genre': 'Comedy; Crime; Drama',\n",
       "  'IMDB Rating': 7.9,\n",
       "  'Directors': 'Rian Johnson',\n",
       "  'Actors': 'Daniel Craig; Chris Evans; Ana de Armas; Jamie Lee Curtis',\n",
       "  'Votes': 677801},\n",
       " {'Movie Name': 'Babylon',\n",
       "  'IMDB URL': 'https://www.imdb.com/title/tt10640346/',\n",
       "  'Year of Release': 2022,\n",
       "  'Duration': '189 min',\n",
       "  'Genre': 'Comedy; Drama; History',\n",
       "  'IMDB Rating': 7.4,\n",
       "  'Directors': 'Damien Chazelle',\n",
       "  'Actors': 'Brad Pitt; Margot Robbie; Jean Smart; Olivia Wilde',\n",
       "  'Votes': 10490}]"
      ]
     },
     "execution_count": 28,
     "metadata": {},
     "output_type": "execute_result"
    }
   ],
   "source": [
    "top_200_comedy_movies[:5]"
   ]
  },
  {
   "cell_type": "markdown",
   "id": "72cd7304",
   "metadata": {},
   "source": [
    "## Write Information to CSV\n",
    "\n",
    "Below is a function which can be used to write all the extracted information into a csv file:"
   ]
  },
  {
   "cell_type": "code",
   "execution_count": 29,
   "id": "6ea6f071",
   "metadata": {},
   "outputs": [],
   "source": [
    "def write_csv(items, path):\n",
    "    with open(path, 'w') as f:\n",
    "        if len(items) == 0:\n",
    "            return\n",
    "        \n",
    "        headers = ','.join(list(items[0].keys()))\n",
    "        f.write(headers + '\\n')\n",
    "        \n",
    "        for item in items:\n",
    "            values = []\n",
    "            for value in item.values():\n",
    "                values.append(str(value))\n",
    "            f.write(','.join(values) + '\\n')"
   ]
  },
  {
   "cell_type": "code",
   "execution_count": 30,
   "id": "1cae211f",
   "metadata": {},
   "outputs": [],
   "source": [
    "write_csv(top_200_comedy_movies, 'top-200-comedy-movies.csv')"
   ]
  },
  {
   "cell_type": "markdown",
   "id": "a84dcffa",
   "metadata": {},
   "source": [
    "### Use Pandas to Analyse the Data\n",
    "\n",
    "We can now view all the extracted information in the form of a data frame using the pandas library"
   ]
  },
  {
   "cell_type": "code",
   "execution_count": 31,
   "id": "84dde60e",
   "metadata": {},
   "outputs": [],
   "source": [
    "import pandas as pd"
   ]
  },
  {
   "cell_type": "code",
   "execution_count": 32,
   "id": "ac67ac70",
   "metadata": {},
   "outputs": [
    {
     "data": {
      "text/html": [
       "<div>\n",
       "<style scoped>\n",
       "    .dataframe tbody tr th:only-of-type {\n",
       "        vertical-align: middle;\n",
       "    }\n",
       "\n",
       "    .dataframe tbody tr th {\n",
       "        vertical-align: top;\n",
       "    }\n",
       "\n",
       "    .dataframe thead th {\n",
       "        text-align: right;\n",
       "    }\n",
       "</style>\n",
       "<table border=\"1\" class=\"dataframe\">\n",
       "  <thead>\n",
       "    <tr style=\"text-align: right;\">\n",
       "      <th></th>\n",
       "      <th>Movie Name</th>\n",
       "      <th>IMDB URL</th>\n",
       "      <th>Year of Release</th>\n",
       "      <th>Duration</th>\n",
       "      <th>Genre</th>\n",
       "      <th>IMDB Rating</th>\n",
       "      <th>Directors</th>\n",
       "      <th>Actors</th>\n",
       "      <th>Votes</th>\n",
       "    </tr>\n",
       "  </thead>\n",
       "  <tbody>\n",
       "    <tr>\n",
       "      <th>0</th>\n",
       "      <td>Glass Onion</td>\n",
       "      <td>https://www.imdb.com/title/tt11564570/</td>\n",
       "      <td>2022</td>\n",
       "      <td>139 min</td>\n",
       "      <td>Comedy; Crime; Drama</td>\n",
       "      <td>7.2</td>\n",
       "      <td>Rian Johnson</td>\n",
       "      <td>Daniel Craig; Edward Norton; Kate Hudson; Dave...</td>\n",
       "      <td>255998</td>\n",
       "    </tr>\n",
       "    <tr>\n",
       "      <th>1</th>\n",
       "      <td>The Menu</td>\n",
       "      <td>https://www.imdb.com/title/tt9764362/</td>\n",
       "      <td>2022</td>\n",
       "      <td>107 min</td>\n",
       "      <td>Comedy; Horror; Thriller</td>\n",
       "      <td>7.3</td>\n",
       "      <td>Mark Mylod</td>\n",
       "      <td>Ralph Fiennes; Anya Taylor-Joy; Nicholas Hoult...</td>\n",
       "      <td>115650</td>\n",
       "    </tr>\n",
       "    <tr>\n",
       "      <th>2</th>\n",
       "      <td>White Noise</td>\n",
       "      <td>https://www.imdb.com/title/tt6160448/</td>\n",
       "      <td>2022</td>\n",
       "      <td>136 min</td>\n",
       "      <td>Comedy; Drama; Horror</td>\n",
       "      <td>5.7</td>\n",
       "      <td>Noah Baumbach</td>\n",
       "      <td>Adam Driver; Greta Gerwig; Don Cheadle; Madiso...</td>\n",
       "      <td>24039</td>\n",
       "    </tr>\n",
       "    <tr>\n",
       "      <th>3</th>\n",
       "      <td>Knives Out</td>\n",
       "      <td>https://www.imdb.com/title/tt8946378/</td>\n",
       "      <td>2019</td>\n",
       "      <td>130 min</td>\n",
       "      <td>Comedy; Crime; Drama</td>\n",
       "      <td>7.9</td>\n",
       "      <td>Rian Johnson</td>\n",
       "      <td>Daniel Craig; Chris Evans; Ana de Armas; Jamie...</td>\n",
       "      <td>677801</td>\n",
       "    </tr>\n",
       "    <tr>\n",
       "      <th>4</th>\n",
       "      <td>Babylon</td>\n",
       "      <td>https://www.imdb.com/title/tt10640346/</td>\n",
       "      <td>2022</td>\n",
       "      <td>189 min</td>\n",
       "      <td>Comedy; Drama; History</td>\n",
       "      <td>7.4</td>\n",
       "      <td>Damien Chazelle</td>\n",
       "      <td>Brad Pitt; Margot Robbie; Jean Smart; Olivia W...</td>\n",
       "      <td>10490</td>\n",
       "    </tr>\n",
       "  </tbody>\n",
       "</table>\n",
       "</div>"
      ],
      "text/plain": [
       "    Movie Name                                IMDB URL  Year of Release  \\\n",
       "0  Glass Onion  https://www.imdb.com/title/tt11564570/             2022   \n",
       "1     The Menu   https://www.imdb.com/title/tt9764362/             2022   \n",
       "2  White Noise   https://www.imdb.com/title/tt6160448/             2022   \n",
       "3   Knives Out   https://www.imdb.com/title/tt8946378/             2019   \n",
       "4      Babylon  https://www.imdb.com/title/tt10640346/             2022   \n",
       "\n",
       "  Duration                     Genre IMDB Rating        Directors  \\\n",
       "0  139 min      Comedy; Crime; Drama         7.2     Rian Johnson   \n",
       "1  107 min  Comedy; Horror; Thriller         7.3       Mark Mylod   \n",
       "2  136 min     Comedy; Drama; Horror         5.7    Noah Baumbach   \n",
       "3  130 min      Comedy; Crime; Drama         7.9     Rian Johnson   \n",
       "4  189 min    Comedy; Drama; History         7.4  Damien Chazelle   \n",
       "\n",
       "                                              Actors   Votes  \n",
       "0  Daniel Craig; Edward Norton; Kate Hudson; Dave...  255998  \n",
       "1  Ralph Fiennes; Anya Taylor-Joy; Nicholas Hoult...  115650  \n",
       "2  Adam Driver; Greta Gerwig; Don Cheadle; Madiso...   24039  \n",
       "3  Daniel Craig; Chris Evans; Ana de Armas; Jamie...  677801  \n",
       "4  Brad Pitt; Margot Robbie; Jean Smart; Olivia W...   10490  "
      ]
     },
     "execution_count": 32,
     "metadata": {},
     "output_type": "execute_result"
    }
   ],
   "source": [
    "pd.read_csv('top-200-comedy-movies.csv').head()"
   ]
  },
  {
   "cell_type": "markdown",
   "id": "a89c3944",
   "metadata": {},
   "source": [
    "## The Last Leg\n",
    "\n",
    "We can now modify our function to do all of the following:\n",
    "\n",
    "* Download the web page from IMDB\n",
    "* Extract data for top 100 movies from the web page\n",
    "* Write the data into a CSV file\n",
    "* Show the data as a pandas dataframe"
   ]
  },
  {
   "cell_type": "code",
   "execution_count": 33,
   "id": "726c964d",
   "metadata": {},
   "outputs": [],
   "source": [
    "def get_n_pages(genre, n):\n",
    "    \n",
    "    #Getting a list of top 50 movies from first page\n",
    "    doc1 = get_genre_first_page(genre)\n",
    "    top_movies = get_top_movies(doc1)\n",
    "    \n",
    "    #Getting a list of movies from the next (n-1) pages\n",
    "    for i in range(2,n+1):\n",
    "        doc = get_genre_nth_page(genre, i)\n",
    "        top_movies_n = get_top_movies(doc)\n",
    "        top_movies += top_movies_n\n",
    "    \n",
    "    #Writing the data into a csv file\n",
    "    write_csv(top_movies, f'top-{genre}-movies.csv')\n",
    "    \n",
    "    return pd.read_csv(f'top-{genre}-movies.csv')"
   ]
  },
  {
   "cell_type": "code",
   "execution_count": 1,
   "id": "88373ecf",
   "metadata": {},
   "outputs": [
    {
     "ename": "NameError",
     "evalue": "name 'get_n_pages' is not defined",
     "output_type": "error",
     "traceback": [
      "\u001b[1;31m---------------------------------------------------------------------------\u001b[0m",
      "\u001b[1;31mNameError\u001b[0m                                 Traceback (most recent call last)",
      "Cell \u001b[1;32mIn[1], line 1\u001b[0m\n\u001b[1;32m----> 1\u001b[0m get_n_pages(\u001b[38;5;124m'\u001b[39m\u001b[38;5;124maction\u001b[39m\u001b[38;5;124m'\u001b[39m, \u001b[38;5;241m4\u001b[39m)\n",
      "\u001b[1;31mNameError\u001b[0m: name 'get_n_pages' is not defined"
     ]
    }
   ],
   "source": [
    "get_n_pages('action', 4)"
   ]
  },
  {
   "cell_type": "markdown",
   "id": "80dacb63",
   "metadata": {},
   "source": [
    "## References & Future Work\n",
    "\n",
    "### Summary\n",
    "\n",
    "Following is a brief summary of what we did:\n",
    "\n",
    "* Downloaded the page from URL using requests library and converted its contents into a BeautifulSoup Object\n",
    "* Used the BeautifulSoup library to parse required information\n",
    "* Wrote the gathered information to a csv file\n",
    "* Used the pandas library to show the information in a dataframe\n",
    "\n",
    "\n",
    "### Ideas for Future Work\n",
    "\n",
    "* Create a live dashboard which updates at a regular frequency using the data extracted from IMDB\n",
    "* Analyse the extracted data using pandas library for insights on directors/actors featuring in the list. An interesting analysis would be to assign a score to all the actors/directors in the list basis the ranking of their movies.\n",
    "* Python libraries like matplotlib and seaborn can be used for visualisation of the data we have scraped"
   ]
  },
  {
   "cell_type": "code",
   "execution_count": 35,
   "id": "0d5def27",
   "metadata": {},
   "outputs": [],
   "source": [
    "import jovian"
   ]
  },
  {
   "cell_type": "code",
   "execution_count": 36,
   "id": "d8b380af",
   "metadata": {},
   "outputs": [
    {
     "data": {
      "application/javascript": [
       "window.require && require([\"base/js/namespace\"],function(Jupyter){Jupyter.notebook.save_checkpoint()})"
      ],
      "text/plain": [
       "<IPython.core.display.Javascript object>"
      ]
     },
     "metadata": {},
     "output_type": "display_data"
    },
    {
     "name": "stdout",
     "output_type": "stream",
     "text": [
      "[jovian] Updating notebook \"snehabajaj108/web-scraping-assignment\" on https://jovian.com\u001b[0m\n",
      "[jovian] Committed successfully! https://jovian.com/snehabajaj108/web-scraping-assignment\u001b[0m\n"
     ]
    },
    {
     "data": {
      "text/plain": [
       "'https://jovian.com/snehabajaj108/web-scraping-assignment'"
      ]
     },
     "execution_count": 36,
     "metadata": {},
     "output_type": "execute_result"
    }
   ],
   "source": [
    "jovian.commit()"
   ]
  }
 ],
 "metadata": {
  "kernelspec": {
   "display_name": "Python 3 (ipykernel)",
   "language": "python",
   "name": "python3"
  },
  "language_info": {
   "codemirror_mode": {
    "name": "ipython",
    "version": 3
   },
   "file_extension": ".py",
   "mimetype": "text/x-python",
   "name": "python",
   "nbconvert_exporter": "python",
   "pygments_lexer": "ipython3",
   "version": "3.12.4"
  }
 },
 "nbformat": 4,
 "nbformat_minor": 5
}
